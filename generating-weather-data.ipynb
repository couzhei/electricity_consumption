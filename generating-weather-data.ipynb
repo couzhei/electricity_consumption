{
 "cells": [
  {
   "cell_type": "code",
   "execution_count": 4,
   "metadata": {},
   "outputs": [],
   "source": [
    "!pip install meteostat -q\n",
    "from datetime import datetime, timedelta\n",
    "import matplotlib.pyplot as plt\n",
    "from meteostat import Point, Hourly, Daily\n",
    "\n",
    "\n",
    "LAT, LON = 36.268548, 50.008506 # this is the exact location of Alborz shopping mall"
   ]
  },
  {
   "cell_type": "code",
   "execution_count": 28,
   "metadata": {},
   "outputs": [
    {
     "name": "stderr",
     "output_type": "stream",
     "text": [
      "FutureWarning: The frame.append method is deprecated and will be removed from pandas in a future version. Use pandas.concat instead.\n",
      "FutureWarning: The frame.append method is deprecated and will be removed from pandas in a future version. Use pandas.concat instead.\n"
     ]
    }
   ],
   "source": [
    "# Set time period\n",
    "start = datetime(2018, 1, 1, 0, 0)\n",
    "end = datetime(2022, 5, 23, 23, 59)\n",
    "\n",
    "# Create Point for Qazvin\n",
    "qazvin = Point(LAT, LON)\n",
    "\n",
    "# Get daily and hourly data from Jan 1st 2018 up to now\n",
    "hourly_data = Hourly(qazvin, start, end)\n",
    "daily_data = Daily(qazvin, start, end)\n",
    "\n",
    "# hourly_data = hourly_data.normalize() # ridiculuously enough this does worse to the data :(\n",
    "# hourly_data = hourly_data.interpolate()\n",
    "\n",
    "daily_data = daily_data.normalize() # but for daily data, it's doing fine\n",
    "daily_data = daily_data.interpolate()\n",
    "\n",
    "hourly_data = hourly_data.fetch()\n",
    "daily_data = daily_data.fetch()"
   ]
  },
  {
   "cell_type": "code",
   "execution_count": 29,
   "metadata": {
    "scrolled": false
   },
   "outputs": [
    {
     "data": {
      "text/plain": [
       "tavg      0.00\n",
       "tmin      0.00\n",
       "tmax      0.00\n",
       "prcp      0.00\n",
       "snow     93.89\n",
       "wdir      7.04\n",
       "wspd      0.19\n",
       "wpgt    100.00\n",
       "pres      0.69\n",
       "tsun    100.00\n",
       "dtype: float64"
      ]
     },
     "execution_count": 29,
     "metadata": {},
     "output_type": "execute_result"
    }
   ],
   "source": [
    "round(daily_data.isnull().sum() / daily_data.shape[0] * 100, 2)"
   ]
  },
  {
   "cell_type": "code",
   "execution_count": 30,
   "metadata": {},
   "outputs": [
    {
     "data": {
      "text/plain": [
       "temp      0.57\n",
       "dwpt      0.57\n",
       "rhum      0.57\n",
       "prcp     75.07\n",
       "snow    100.00\n",
       "wdir      3.78\n",
       "wspd      1.49\n",
       "wpgt    100.00\n",
       "pres      1.99\n",
       "tsun    100.00\n",
       "coco     92.37\n",
       "dtype: float64"
      ]
     },
     "execution_count": 30,
     "metadata": {},
     "output_type": "execute_result"
    }
   ],
   "source": [
    "round(hourly_data.isnull().sum() / hourly_data.shape[0] * 100, 2)"
   ]
  },
  {
   "cell_type": "code",
   "execution_count": 32,
   "metadata": {},
   "outputs": [],
   "source": [
    "hourly_data.drop(columns=[\"prcp\", \"snow\", \"wpgt\",\n",
    "                  \"tsun\", \"coco\"], inplace=True)"
   ]
  },
  {
   "cell_type": "code",
   "execution_count": 33,
   "metadata": {},
   "outputs": [],
   "source": [
    "daily_data.drop(columns=[\"wpgt\", \"tsun\"], inplace=True)"
   ]
  },
  {
   "cell_type": "code",
   "execution_count": null,
   "metadata": {},
   "outputs": [],
   "source": [
    "hourly_data.to_csv(\"weather_hourly.csv\", index=False)\n",
    "daily_data.to_csv(\"weather_daily.csv\", index=False)"
   ]
  }
 ],
 "metadata": {
  "kernelspec": {
   "display_name": "Python 3",
   "language": "python",
   "name": "python3"
  },
  "language_info": {
   "codemirror_mode": {
    "name": "ipython",
    "version": 3
   },
   "file_extension": ".py",
   "mimetype": "text/x-python",
   "name": "python",
   "nbconvert_exporter": "python",
   "pygments_lexer": "ipython3",
   "version": "3.8.3"
  }
 },
 "nbformat": 4,
 "nbformat_minor": 4
}
