{
 "cells": [
  {
   "cell_type": "code",
   "execution_count": 12,
   "metadata": {},
   "outputs": [],
   "source": [
    "# tools for scraping\n",
    "!pip install selenium requests beautifulsoup4 -q\n",
    "import os\n",
    "#from glob import glob\n",
    "import time\n",
    "from selenium import webdriver\n",
    "import urllib.request\n",
    "from selenium.webdriver.chrome.options import Options\n",
    "# from selenium.webdriver.common.action_chains import ActionChains\n",
    "from selenium.webdriver.support import expected_conditions as EC\n",
    "from selenium.webdriver.common.by import By\n",
    "from selenium.webdriver.support.ui import WebDriverWait\n",
    "\n",
    "import pandas as pd\n",
    "from selenium import webdriver\n",
    "from selenium.webdriver.common.keys import Keys\n",
    "import re\n",
    "import requests\n",
    "from bs4 import BeautifulSoup\n",
    "import csv\n",
    "\n",
    "# links\n",
    "# login_address='https://app.business-in-a-box.com/account/login'\n",
    "login_address = 'http://energybill.ir/Account/Login'\n",
    "usrname = \"Alborz\"\n",
    "passwrd = \"12345678\"[::-1]\n",
    "# target_page='https://app.business-in-a-box.com/doc/business-plan-template-D12528'\n",
    "# target_xml_doc='https://templates.biztree.com/svgs/docviewerWebApp.html?v4#12528.xml'\n",
    "# one_sample_svg = 'https://templates.biztree.com/svgs/12528_files/page1.svg'"
   ]
  },
  {
   "cell_type": "code",
   "execution_count": 13,
   "metadata": {},
   "outputs": [],
   "source": [
    "#Definning some basic functions for later usage\n",
    "def clickOnId(id):\n",
    "    browser.find_element_by_id(id).click()\n",
    "\n",
    "def clickOnXpath(xpath):\n",
    "    browser.find_element_by_xpath(xpath).click()\n",
    "\n",
    "def clickOnClass(class_name):\n",
    "    browser.find_element(By.CLASS_NAME, class_name).click()\n",
    "\n",
    "def TypeInId(id,toBeTyped):\n",
    "    elems = browser.find_elements_by_id(id)\n",
    "    elems[0].send_keys(toBeTyped)\n",
    "\n",
    "def TypeInXpath(xpath,toBeTyped):\n",
    "    elems = browser.find_elements_by_xpath(xpath)\n",
    "    elems[0].send_keys(toBeTyped)\n",
    "    \n",
    "def openBrowser():\n",
    "    chromeOptions = webdriver.ChromeOptions()\n",
    "    chromedriver = \"chromedriver.exe\"\n",
    "    global browser\n",
    "    browser = webdriver.Chrome(executable_path=chromedriver, chrome_options=chromeOptions)\n",
    "    #browser.fullscreen_window()\n",
    "    return browser\n",
    "\n",
    "def login_into_system():\n",
    "    browser.get(login_address)\n",
    "    TypeInXpath('//*[@id=\"Email\"]',usrname)\n",
    "    TypeInXpath('//*[@id=\"Password\"]', passwrd)\n",
    "    browser.find_element(By.XPATH,'/html/body/div[1]/div[1]/form/div[3]/button').click()\n",
    "#     clickOnClass('btn btn-loginBlue')\n",
    "#     clickOnXpath('//*[@id=\"BibWebApp\"]/div[2]/div[2]/div/div[2]/div/div/form/button')\n",
    "    \n",
    "    time.sleep(3)"
   ]
  },
  {
   "cell_type": "code",
   "execution_count": 14,
   "metadata": {},
   "outputs": [
    {
     "name": "stderr",
     "output_type": "stream",
     "text": [
      "C:\\Users\\Master Tech\\AppData\\Local\\Temp\\ipykernel_5984\\2121810930.py:23: DeprecationWarning: executable_path has been deprecated, please pass in a Service object\n",
      "  browser = webdriver.Chrome(executable_path=chromedriver, chrome_options=chromeOptions)\n",
      "C:\\Users\\Master Tech\\AppData\\Local\\Temp\\ipykernel_5984\\2121810930.py:23: DeprecationWarning: use options instead of chrome_options\n",
      "  browser = webdriver.Chrome(executable_path=chromedriver, chrome_options=chromeOptions)\n",
      "C:\\Users\\Master Tech\\AppData\\Local\\Temp\\ipykernel_5984\\2121810930.py:16: DeprecationWarning: find_elements_by_xpath is deprecated. Please use find_elements(by=By.XPATH, value=xpath) instead\n",
      "  elems = browser.find_elements_by_xpath(xpath)\n"
     ]
    }
   ],
   "source": [
    "browser=openBrowser()\n",
    "login_into_system()"
   ]
  },
  {
   "cell_type": "code",
   "execution_count": 22,
   "metadata": {},
   "outputs": [],
   "source": [
    "def get_source_code(url):\n",
    "    browser.get(url)\n",
    "    elem = browser.find_element(By.XPATH,\"//*\")\n",
    "    source_code = elem.get_attribute(\"outerHTML\")\n",
    "    return source_code"
   ]
  },
  {
   "cell_type": "code",
   "execution_count": 23,
   "metadata": {},
   "outputs": [],
   "source": [
    "# class=\"navbar-text navbar-text-title paging-info navbar-pager\"\n",
    "\n",
    "def get_num_pages(url):\n",
    "#     browser.get(url)\n",
    "#     if browser.find_element(By.XPATH,'//*[@id=\"pageNum\"]') is None:\n",
    "#         elem = browser.find_element(By.XPATH,'//*[@id=\"pageNum\"]')\n",
    "#     else:\n",
    "#         elem = browser.find_element(By.CLASS_NAME,\"navbar-text navbar-text-title paging-info navbar-pager\")\n",
    "#     return elem\n",
    "\n",
    "    source_code = get_source_code(url)\n",
    "    soup = BeautifulSoup(source_code, 'html.parser')\n",
    "    return int(soup.find(\"li\", {\"class\": \"navbar-text navbar-text-title paging-info navbar-pager\"}).text.strip())"
   ]
  },
  {
   "cell_type": "code",
   "execution_count": 24,
   "metadata": {},
   "outputs": [],
   "source": [
    "def write_in_csv(vahed,page,html_page):\n",
    "    \n",
    "    soup_page = BeautifulSoup(html_page, 'html.parser')\n",
    "    parent_dir = os.getcwd()\n",
    "    directory = '{}'.format(vahed)\n",
    "    path = os.path.join(parent_dir, directory)\n",
    "    \n",
    "    os.makedirs(path, exist_ok=True)\n",
    "\n",
    "    outfile = open(\"{}\\\\table_data{}_{}.csv\".format(vahed,vahed,page),\"w\",newline='',encoding=\"utf-8\")\n",
    "    writer = csv.writer(outfile)\n",
    "\n",
    "    #tree = BeautifulSoup(html_document,\"lxml\")\n",
    "    table_tag = soup_page.find_all(\"table\")[0]\n",
    "    tab_data = [[item.text for item in row_data.select(\"th,td\")]\n",
    "                    for row_data in table_tag.select(\"tr\")]\n",
    "\n",
    "    if tab_data is not None:\n",
    "        for data in tab_data:\n",
    "            writer.writerow(data)\n",
    "            #print(' '.join(data))\n",
    "    try:    \n",
    "        pd.read_csv(\"{}//table_data{}_{}.csv\".format(vahed,vahed,page)).to_excel('{}//table_data{}_{}.xlsx'.format(vahed,vahed,page))\n",
    "    except:\n",
    "        print('no file found, vahed:{}, page:{}'.format(vahed,page))\n",
    "#     workbook = xlsxwriter.Workbook('\"table_data{}_{}.csv\".format(vahed)')\n",
    "#     worksheet = workbook.add_worksheet()"
   ]
  },
  {
   "cell_type": "code",
   "execution_count": 25,
   "metadata": {},
   "outputs": [],
   "source": [
    "main_url = 'http://energybill.ir/Meter/Index/Electrical'\n",
    "#url_page = 'http://energybill.ir/Meter{}/Reading/Page{}'.format(vahed,page)"
   ]
  },
  {
   "cell_type": "code",
   "execution_count": 26,
   "metadata": {},
   "outputs": [],
   "source": [
    "list_vahed = [\n",
    "    5513,5518,5523,5557,\n",
    "    5558,5559,5560,5561,5562,5563,5564,5565,5593,5594,5603,\n",
    "    5604,5605,5606,5607,5608,5609,5637,5638,5639,5640,5641,\n",
    "    5642,5643,5644,5645,5514,5519,5524,5526,5527,5595,5596,\n",
    "    5597,5598,5599,5600,5601,5602,5646,5647,5648,5654,5664,\n",
    "    5665,5670,5672,5673,5674,5675,5676,5677,5678,5679,5680,\n",
    "    10277,5516,5525,5532,5533,5534,5535,5536,5537,5538,5550,\n",
    "    5551,5566,5567,5568,5649,5650,5651,5652,5653,5660,5662,\n",
    "    5663,5666,5667,5668,5669,5683,5684,5685,10278,5511,5528,\n",
    "    5529,5530,5531,5589,5590,5591,5592,5655,5656,5657,5658,\n",
    "    5659,5661,5681,5682,5686,5687,5688,5689,5690,5691,5692,\n",
    "    5693,5694,5695,5696,5697,5698,5515,5520,5521,5522,5575,\n",
    "    5576,5586,5587,5588,5610,5611,5612,5613,5614,5615,5616,\n",
    "    5617,5618,5625,5626,5627,5628,5629,5630,5631,5632,5633,\n",
    "    5634,5635,5636,5517,5541,5545,5546,5547,5549,5525,5553,\n",
    "    5554,5555,5556,5569,5570,5571,5572,5573,5574,5578,5579,\n",
    "    5580,5581,5582,5583,5619,5620,5621,5622,5623,5624,5671,\n",
    "    5542,5543,5544,5548,5577,5584,5585,10647,10648,10649]"
   ]
  },
  {
   "cell_type": "code",
   "execution_count": 27,
   "metadata": {},
   "outputs": [
    {
     "data": {
      "text/plain": [
       "189"
      ]
     },
     "execution_count": 27,
     "metadata": {},
     "output_type": "execute_result"
    }
   ],
   "source": [
    "len(set(list_vahed))"
   ]
  },
  {
   "cell_type": "code",
   "execution_count": 28,
   "metadata": {},
   "outputs": [],
   "source": [
    "def run_this():\n",
    "    for vahed in list_vahed:\n",
    "        write_in_csv(vahed,1,get_source_code('http://energybill.ir/Meter{}/Reading/Page{}'.format(vahed,1))) \n",
    "        num_page = get_num_pages('http://energybill.ir/Meter{}/Reading/Page{}'.format(vahed,1))\n",
    "\n",
    "        for page in range(2,num_page+1):\n",
    "            write_in_csv(vahed,page,get_source_code('http://energybill.ir/Meter{}/Reading/Page{}'.format(vahed,page))) "
   ]
  },
  {
   "cell_type": "code",
   "execution_count": 29,
   "metadata": {},
   "outputs": [
    {
     "name": "stdout",
     "output_type": "stream",
     "text": [
      "no file found, vahed:5513, page:1\n",
      "no file found, vahed:5513, page:2\n",
      "no file found, vahed:5513, page:3\n",
      "no file found, vahed:5513, page:4\n",
      "no file found, vahed:5513, page:5\n",
      "no file found, vahed:5513, page:6\n",
      "no file found, vahed:5513, page:7\n",
      "no file found, vahed:5513, page:8\n",
      "no file found, vahed:5513, page:9\n",
      "no file found, vahed:5513, page:10\n",
      "no file found, vahed:5513, page:11\n",
      "no file found, vahed:5513, page:12\n",
      "no file found, vahed:5513, page:13\n",
      "no file found, vahed:5513, page:14\n",
      "no file found, vahed:5513, page:15\n",
      "no file found, vahed:5513, page:16\n",
      "no file found, vahed:5513, page:17\n",
      "no file found, vahed:5513, page:18\n",
      "no file found, vahed:5513, page:19\n",
      "no file found, vahed:5513, page:20\n",
      "no file found, vahed:5513, page:21\n",
      "no file found, vahed:5513, page:22\n",
      "no file found, vahed:5513, page:23\n",
      "no file found, vahed:5513, page:24\n",
      "no file found, vahed:5513, page:25\n",
      "no file found, vahed:5513, page:26\n",
      "no file found, vahed:5513, page:27\n",
      "no file found, vahed:5513, page:28\n",
      "no file found, vahed:5513, page:29\n",
      "no file found, vahed:5513, page:30\n",
      "no file found, vahed:5513, page:31\n",
      "no file found, vahed:5513, page:32\n",
      "no file found, vahed:5513, page:33\n",
      "no file found, vahed:5513, page:34\n",
      "no file found, vahed:5513, page:35\n",
      "no file found, vahed:5513, page:36\n",
      "no file found, vahed:5513, page:37\n",
      "no file found, vahed:5513, page:38\n",
      "no file found, vahed:5513, page:39\n",
      "no file found, vahed:5513, page:40\n",
      "no file found, vahed:5513, page:41\n",
      "no file found, vahed:5513, page:42\n",
      "no file found, vahed:5513, page:43\n",
      "no file found, vahed:5513, page:44\n",
      "no file found, vahed:5513, page:45\n",
      "no file found, vahed:5513, page:46\n",
      "no file found, vahed:5513, page:47\n",
      "no file found, vahed:5513, page:48\n",
      "no file found, vahed:5513, page:49\n",
      "no file found, vahed:5513, page:50\n",
      "no file found, vahed:5513, page:51\n",
      "no file found, vahed:5513, page:52\n",
      "no file found, vahed:5513, page:53\n",
      "no file found, vahed:5513, page:54\n",
      "no file found, vahed:5513, page:55\n",
      "no file found, vahed:5513, page:56\n",
      "no file found, vahed:5513, page:57\n",
      "no file found, vahed:5513, page:58\n",
      "no file found, vahed:5513, page:59\n",
      "no file found, vahed:5513, page:60\n",
      "no file found, vahed:5513, page:61\n",
      "no file found, vahed:5513, page:62\n",
      "no file found, vahed:5513, page:63\n",
      "no file found, vahed:5513, page:64\n",
      "no file found, vahed:5513, page:65\n",
      "no file found, vahed:5513, page:66\n",
      "no file found, vahed:5513, page:67\n",
      "no file found, vahed:5513, page:68\n",
      "no file found, vahed:5513, page:69\n",
      "no file found, vahed:5513, page:70\n",
      "no file found, vahed:5513, page:71\n",
      "no file found, vahed:5513, page:72\n",
      "no file found, vahed:5513, page:73\n",
      "no file found, vahed:5513, page:74\n",
      "no file found, vahed:5513, page:75\n",
      "no file found, vahed:5513, page:76\n",
      "no file found, vahed:5513, page:77\n",
      "no file found, vahed:5513, page:78\n",
      "no file found, vahed:5513, page:79\n",
      "no file found, vahed:5513, page:80\n",
      "no file found, vahed:5513, page:81\n",
      "no file found, vahed:5513, page:82\n",
      "no file found, vahed:5513, page:83\n",
      "no file found, vahed:5513, page:84\n",
      "no file found, vahed:5513, page:85\n",
      "no file found, vahed:5513, page:86\n",
      "no file found, vahed:5513, page:87\n",
      "no file found, vahed:5513, page:88\n",
      "no file found, vahed:5513, page:89\n",
      "no file found, vahed:5513, page:90\n",
      "no file found, vahed:5513, page:91\n",
      "no file found, vahed:5513, page:92\n",
      "no file found, vahed:5513, page:93\n",
      "no file found, vahed:5513, page:94\n",
      "no file found, vahed:5513, page:95\n",
      "no file found, vahed:5513, page:96\n",
      "no file found, vahed:5513, page:97\n",
      "no file found, vahed:5513, page:98\n",
      "no file found, vahed:5513, page:99\n",
      "no file found, vahed:5513, page:100\n",
      "no file found, vahed:5513, page:101\n",
      "no file found, vahed:5513, page:102\n"
     ]
    },
    {
     "ename": "KeyboardInterrupt",
     "evalue": "",
     "output_type": "error",
     "traceback": [
      "\u001b[1;31m---------------------------------------------------------------------------\u001b[0m",
      "\u001b[1;31mKeyboardInterrupt\u001b[0m                         Traceback (most recent call last)",
      "Input \u001b[1;32mIn [29]\u001b[0m, in \u001b[0;36m<cell line: 1>\u001b[1;34m()\u001b[0m\n\u001b[1;32m----> 1\u001b[0m \u001b[43mrun_this\u001b[49m\u001b[43m(\u001b[49m\u001b[43m)\u001b[49m\n",
      "Input \u001b[1;32mIn [28]\u001b[0m, in \u001b[0;36mrun_this\u001b[1;34m()\u001b[0m\n\u001b[0;32m      4\u001b[0m num_page \u001b[38;5;241m=\u001b[39m get_num_pages(\u001b[38;5;124m'\u001b[39m\u001b[38;5;124mhttp://energybill.ir/Meter\u001b[39m\u001b[38;5;132;01m{}\u001b[39;00m\u001b[38;5;124m/Reading/Page\u001b[39m\u001b[38;5;132;01m{}\u001b[39;00m\u001b[38;5;124m'\u001b[39m\u001b[38;5;241m.\u001b[39mformat(vahed,\u001b[38;5;241m1\u001b[39m))\n\u001b[0;32m      6\u001b[0m \u001b[38;5;28;01mfor\u001b[39;00m page \u001b[38;5;129;01min\u001b[39;00m \u001b[38;5;28mrange\u001b[39m(\u001b[38;5;241m2\u001b[39m,num_page\u001b[38;5;241m+\u001b[39m\u001b[38;5;241m1\u001b[39m):\n\u001b[1;32m----> 7\u001b[0m     \u001b[43mwrite_in_csv\u001b[49m\u001b[43m(\u001b[49m\u001b[43mvahed\u001b[49m\u001b[43m,\u001b[49m\u001b[43mpage\u001b[49m\u001b[43m,\u001b[49m\u001b[43mget_source_code\u001b[49m\u001b[43m(\u001b[49m\u001b[38;5;124;43m'\u001b[39;49m\u001b[38;5;124;43mhttp://energybill.ir/Meter\u001b[39;49m\u001b[38;5;132;43;01m{}\u001b[39;49;00m\u001b[38;5;124;43m/Reading/Page\u001b[39;49m\u001b[38;5;132;43;01m{}\u001b[39;49;00m\u001b[38;5;124;43m'\u001b[39;49m\u001b[38;5;241;43m.\u001b[39;49m\u001b[43mformat\u001b[49m\u001b[43m(\u001b[49m\u001b[43mvahed\u001b[49m\u001b[43m,\u001b[49m\u001b[43mpage\u001b[49m\u001b[43m)\u001b[49m\u001b[43m)\u001b[49m\u001b[43m)\u001b[49m\n",
      "Input \u001b[1;32mIn [24]\u001b[0m, in \u001b[0;36mwrite_in_csv\u001b[1;34m(vahed, page, html_page)\u001b[0m\n\u001b[0;32m      1\u001b[0m \u001b[38;5;28;01mdef\u001b[39;00m \u001b[38;5;21mwrite_in_csv\u001b[39m(vahed,page,html_page):\n\u001b[1;32m----> 3\u001b[0m     soup_page \u001b[38;5;241m=\u001b[39m \u001b[43mBeautifulSoup\u001b[49m\u001b[43m(\u001b[49m\u001b[43mhtml_page\u001b[49m\u001b[43m,\u001b[49m\u001b[43m \u001b[49m\u001b[38;5;124;43m'\u001b[39;49m\u001b[38;5;124;43mhtml.parser\u001b[39;49m\u001b[38;5;124;43m'\u001b[39;49m\u001b[43m)\u001b[49m\n\u001b[0;32m      4\u001b[0m     parent_dir \u001b[38;5;241m=\u001b[39m os\u001b[38;5;241m.\u001b[39mgetcwd()\n\u001b[0;32m      5\u001b[0m     directory \u001b[38;5;241m=\u001b[39m \u001b[38;5;124m'\u001b[39m\u001b[38;5;132;01m{}\u001b[39;00m\u001b[38;5;124m'\u001b[39m\u001b[38;5;241m.\u001b[39mformat(vahed)\n",
      "File \u001b[1;32m~\\anaconda3\\envs\\anal\\lib\\site-packages\\bs4\\__init__.py:333\u001b[0m, in \u001b[0;36mBeautifulSoup.__init__\u001b[1;34m(self, markup, features, builder, parse_only, from_encoding, exclude_encodings, element_classes, **kwargs)\u001b[0m\n\u001b[0;32m    331\u001b[0m \u001b[38;5;28mself\u001b[39m\u001b[38;5;241m.\u001b[39mbuilder\u001b[38;5;241m.\u001b[39minitialize_soup(\u001b[38;5;28mself\u001b[39m)\n\u001b[0;32m    332\u001b[0m \u001b[38;5;28;01mtry\u001b[39;00m:\n\u001b[1;32m--> 333\u001b[0m     \u001b[38;5;28;43mself\u001b[39;49m\u001b[38;5;241;43m.\u001b[39;49m\u001b[43m_feed\u001b[49m\u001b[43m(\u001b[49m\u001b[43m)\u001b[49m\n\u001b[0;32m    334\u001b[0m     success \u001b[38;5;241m=\u001b[39m \u001b[38;5;28;01mTrue\u001b[39;00m\n\u001b[0;32m    335\u001b[0m     \u001b[38;5;28;01mbreak\u001b[39;00m\n",
      "File \u001b[1;32m~\\anaconda3\\envs\\anal\\lib\\site-packages\\bs4\\__init__.py:451\u001b[0m, in \u001b[0;36mBeautifulSoup._feed\u001b[1;34m(self)\u001b[0m\n\u001b[0;32m    448\u001b[0m \u001b[38;5;66;03m# Convert the document to Unicode.\u001b[39;00m\n\u001b[0;32m    449\u001b[0m \u001b[38;5;28mself\u001b[39m\u001b[38;5;241m.\u001b[39mbuilder\u001b[38;5;241m.\u001b[39mreset()\n\u001b[1;32m--> 451\u001b[0m \u001b[38;5;28;43mself\u001b[39;49m\u001b[38;5;241;43m.\u001b[39;49m\u001b[43mbuilder\u001b[49m\u001b[38;5;241;43m.\u001b[39;49m\u001b[43mfeed\u001b[49m\u001b[43m(\u001b[49m\u001b[38;5;28;43mself\u001b[39;49m\u001b[38;5;241;43m.\u001b[39;49m\u001b[43mmarkup\u001b[49m\u001b[43m)\u001b[49m\n\u001b[0;32m    452\u001b[0m \u001b[38;5;66;03m# Close out any unfinished strings and close all the open tags.\u001b[39;00m\n\u001b[0;32m    453\u001b[0m \u001b[38;5;28mself\u001b[39m\u001b[38;5;241m.\u001b[39mendData()\n",
      "File \u001b[1;32m~\\anaconda3\\envs\\anal\\lib\\site-packages\\bs4\\builder\\_htmlparser.py:399\u001b[0m, in \u001b[0;36mHTMLParserTreeBuilder.feed\u001b[1;34m(self, markup)\u001b[0m\n\u001b[0;32m    397\u001b[0m parser\u001b[38;5;241m.\u001b[39msoup \u001b[38;5;241m=\u001b[39m \u001b[38;5;28mself\u001b[39m\u001b[38;5;241m.\u001b[39msoup\n\u001b[0;32m    398\u001b[0m \u001b[38;5;28;01mtry\u001b[39;00m:\n\u001b[1;32m--> 399\u001b[0m     \u001b[43mparser\u001b[49m\u001b[38;5;241;43m.\u001b[39;49m\u001b[43mfeed\u001b[49m\u001b[43m(\u001b[49m\u001b[43mmarkup\u001b[49m\u001b[43m)\u001b[49m\n\u001b[0;32m    400\u001b[0m     parser\u001b[38;5;241m.\u001b[39mclose()\n\u001b[0;32m    401\u001b[0m \u001b[38;5;28;01mexcept\u001b[39;00m HTMLParseError \u001b[38;5;28;01mas\u001b[39;00m e:\n",
      "File \u001b[1;32m~\\anaconda3\\envs\\anal\\lib\\html\\parser.py:110\u001b[0m, in \u001b[0;36mHTMLParser.feed\u001b[1;34m(self, data)\u001b[0m\n\u001b[0;32m    104\u001b[0m \u001b[38;5;124mr\u001b[39m\u001b[38;5;124;03m\"\"\"Feed data to the parser.\u001b[39;00m\n\u001b[0;32m    105\u001b[0m \n\u001b[0;32m    106\u001b[0m \u001b[38;5;124;03mCall this as often as you want, with as little or as much text\u001b[39;00m\n\u001b[0;32m    107\u001b[0m \u001b[38;5;124;03mas you want (may include '\\n').\u001b[39;00m\n\u001b[0;32m    108\u001b[0m \u001b[38;5;124;03m\"\"\"\u001b[39;00m\n\u001b[0;32m    109\u001b[0m \u001b[38;5;28mself\u001b[39m\u001b[38;5;241m.\u001b[39mrawdata \u001b[38;5;241m=\u001b[39m \u001b[38;5;28mself\u001b[39m\u001b[38;5;241m.\u001b[39mrawdata \u001b[38;5;241m+\u001b[39m data\n\u001b[1;32m--> 110\u001b[0m \u001b[38;5;28;43mself\u001b[39;49m\u001b[38;5;241;43m.\u001b[39;49m\u001b[43mgoahead\u001b[49m\u001b[43m(\u001b[49m\u001b[38;5;241;43m0\u001b[39;49m\u001b[43m)\u001b[49m\n",
      "File \u001b[1;32m~\\anaconda3\\envs\\anal\\lib\\html\\parser.py:170\u001b[0m, in \u001b[0;36mHTMLParser.goahead\u001b[1;34m(self, end)\u001b[0m\n\u001b[0;32m    168\u001b[0m \u001b[38;5;28;01mif\u001b[39;00m startswith(\u001b[38;5;124m'\u001b[39m\u001b[38;5;124m<\u001b[39m\u001b[38;5;124m'\u001b[39m, i):\n\u001b[0;32m    169\u001b[0m     \u001b[38;5;28;01mif\u001b[39;00m starttagopen\u001b[38;5;241m.\u001b[39mmatch(rawdata, i): \u001b[38;5;66;03m# < + letter\u001b[39;00m\n\u001b[1;32m--> 170\u001b[0m         k \u001b[38;5;241m=\u001b[39m \u001b[38;5;28;43mself\u001b[39;49m\u001b[38;5;241;43m.\u001b[39;49m\u001b[43mparse_starttag\u001b[49m\u001b[43m(\u001b[49m\u001b[43mi\u001b[49m\u001b[43m)\u001b[49m\n\u001b[0;32m    171\u001b[0m     \u001b[38;5;28;01melif\u001b[39;00m startswith(\u001b[38;5;124m\"\u001b[39m\u001b[38;5;124m</\u001b[39m\u001b[38;5;124m\"\u001b[39m, i):\n\u001b[0;32m    172\u001b[0m         k \u001b[38;5;241m=\u001b[39m \u001b[38;5;28mself\u001b[39m\u001b[38;5;241m.\u001b[39mparse_endtag(i)\n",
      "File \u001b[1;32m~\\anaconda3\\envs\\anal\\lib\\html\\parser.py:344\u001b[0m, in \u001b[0;36mHTMLParser.parse_starttag\u001b[1;34m(self, i)\u001b[0m\n\u001b[0;32m    342\u001b[0m     \u001b[38;5;28mself\u001b[39m\u001b[38;5;241m.\u001b[39mhandle_startendtag(tag, attrs)\n\u001b[0;32m    343\u001b[0m \u001b[38;5;28;01melse\u001b[39;00m:\n\u001b[1;32m--> 344\u001b[0m     \u001b[38;5;28;43mself\u001b[39;49m\u001b[38;5;241;43m.\u001b[39;49m\u001b[43mhandle_starttag\u001b[49m\u001b[43m(\u001b[49m\u001b[43mtag\u001b[49m\u001b[43m,\u001b[49m\u001b[43m \u001b[49m\u001b[43mattrs\u001b[49m\u001b[43m)\u001b[49m\n\u001b[0;32m    345\u001b[0m     \u001b[38;5;28;01mif\u001b[39;00m tag \u001b[38;5;129;01min\u001b[39;00m \u001b[38;5;28mself\u001b[39m\u001b[38;5;241m.\u001b[39mCDATA_CONTENT_ELEMENTS:\n\u001b[0;32m    346\u001b[0m         \u001b[38;5;28mself\u001b[39m\u001b[38;5;241m.\u001b[39mset_cdata_mode(tag)\n",
      "File \u001b[1;32m~\\anaconda3\\envs\\anal\\lib\\site-packages\\bs4\\builder\\_htmlparser.py:154\u001b[0m, in \u001b[0;36mBeautifulSoupHTMLParser.handle_starttag\u001b[1;34m(self, name, attrs, handle_empty_element)\u001b[0m\n\u001b[0;32m    152\u001b[0m \u001b[38;5;66;03m#print(\"START\", name)\u001b[39;00m\n\u001b[0;32m    153\u001b[0m sourceline, sourcepos \u001b[38;5;241m=\u001b[39m \u001b[38;5;28mself\u001b[39m\u001b[38;5;241m.\u001b[39mgetpos()\n\u001b[1;32m--> 154\u001b[0m tag \u001b[38;5;241m=\u001b[39m \u001b[38;5;28;43mself\u001b[39;49m\u001b[38;5;241;43m.\u001b[39;49m\u001b[43msoup\u001b[49m\u001b[38;5;241;43m.\u001b[39;49m\u001b[43mhandle_starttag\u001b[49m\u001b[43m(\u001b[49m\n\u001b[0;32m    155\u001b[0m \u001b[43m    \u001b[49m\u001b[43mname\u001b[49m\u001b[43m,\u001b[49m\u001b[43m \u001b[49m\u001b[38;5;28;43;01mNone\u001b[39;49;00m\u001b[43m,\u001b[49m\u001b[43m \u001b[49m\u001b[38;5;28;43;01mNone\u001b[39;49;00m\u001b[43m,\u001b[49m\u001b[43m \u001b[49m\u001b[43mattr_dict\u001b[49m\u001b[43m,\u001b[49m\u001b[43m \u001b[49m\u001b[43msourceline\u001b[49m\u001b[38;5;241;43m=\u001b[39;49m\u001b[43msourceline\u001b[49m\u001b[43m,\u001b[49m\n\u001b[0;32m    156\u001b[0m \u001b[43m    \u001b[49m\u001b[43msourcepos\u001b[49m\u001b[38;5;241;43m=\u001b[39;49m\u001b[43msourcepos\u001b[49m\n\u001b[0;32m    157\u001b[0m \u001b[43m\u001b[49m\u001b[43m)\u001b[49m\n\u001b[0;32m    158\u001b[0m \u001b[38;5;28;01mif\u001b[39;00m tag \u001b[38;5;129;01mand\u001b[39;00m tag\u001b[38;5;241m.\u001b[39mis_empty_element \u001b[38;5;129;01mand\u001b[39;00m handle_empty_element:\n\u001b[0;32m    159\u001b[0m     \u001b[38;5;66;03m# Unlike other parsers, html.parser doesn't send separate end tag\u001b[39;00m\n\u001b[0;32m    160\u001b[0m     \u001b[38;5;66;03m# events for empty-element tags. (It's handled in\u001b[39;00m\n\u001b[1;32m   (...)\u001b[0m\n\u001b[0;32m    166\u001b[0m     \u001b[38;5;66;03m# don't want handle_endtag() to cross off any previous end\u001b[39;00m\n\u001b[0;32m    167\u001b[0m     \u001b[38;5;66;03m# events for tags of this name.\u001b[39;00m\n\u001b[0;32m    168\u001b[0m     \u001b[38;5;28mself\u001b[39m\u001b[38;5;241m.\u001b[39mhandle_endtag(name, check_already_closed\u001b[38;5;241m=\u001b[39m\u001b[38;5;28;01mFalse\u001b[39;00m)\n",
      "File \u001b[1;32m~\\anaconda3\\envs\\anal\\lib\\site-packages\\bs4\\__init__.py:714\u001b[0m, in \u001b[0;36mBeautifulSoup.handle_starttag\u001b[1;34m(self, name, namespace, nsprefix, attrs, sourceline, sourcepos, namespaces)\u001b[0m\n\u001b[0;32m    696\u001b[0m \u001b[38;5;124;03m\"\"\"Called by the tree builder when a new tag is encountered.\u001b[39;00m\n\u001b[0;32m    697\u001b[0m \n\u001b[0;32m    698\u001b[0m \u001b[38;5;124;03m:param name: Name of the tag.\u001b[39;00m\n\u001b[1;32m   (...)\u001b[0m\n\u001b[0;32m    711\u001b[0m \u001b[38;5;124;03mdon't call handle_endtag.\u001b[39;00m\n\u001b[0;32m    712\u001b[0m \u001b[38;5;124;03m\"\"\"\u001b[39;00m\n\u001b[0;32m    713\u001b[0m \u001b[38;5;66;03m# print(\"Start tag %s: %s\" % (name, attrs))\u001b[39;00m\n\u001b[1;32m--> 714\u001b[0m \u001b[38;5;28;43mself\u001b[39;49m\u001b[38;5;241;43m.\u001b[39;49m\u001b[43mendData\u001b[49m\u001b[43m(\u001b[49m\u001b[43m)\u001b[49m\n\u001b[0;32m    716\u001b[0m \u001b[38;5;28;01mif\u001b[39;00m (\u001b[38;5;28mself\u001b[39m\u001b[38;5;241m.\u001b[39mparse_only \u001b[38;5;129;01mand\u001b[39;00m \u001b[38;5;28mlen\u001b[39m(\u001b[38;5;28mself\u001b[39m\u001b[38;5;241m.\u001b[39mtagStack) \u001b[38;5;241m<\u001b[39m\u001b[38;5;241m=\u001b[39m \u001b[38;5;241m1\u001b[39m\n\u001b[0;32m    717\u001b[0m     \u001b[38;5;129;01mand\u001b[39;00m (\u001b[38;5;28mself\u001b[39m\u001b[38;5;241m.\u001b[39mparse_only\u001b[38;5;241m.\u001b[39mtext\n\u001b[0;32m    718\u001b[0m          \u001b[38;5;129;01mor\u001b[39;00m \u001b[38;5;129;01mnot\u001b[39;00m \u001b[38;5;28mself\u001b[39m\u001b[38;5;241m.\u001b[39mparse_only\u001b[38;5;241m.\u001b[39msearch_tag(name, attrs))):\n\u001b[0;32m    719\u001b[0m     \u001b[38;5;28;01mreturn\u001b[39;00m \u001b[38;5;28;01mNone\u001b[39;00m\n",
      "File \u001b[1;32m~\\anaconda3\\envs\\anal\\lib\\site-packages\\bs4\\__init__.py:589\u001b[0m, in \u001b[0;36mBeautifulSoup.endData\u001b[1;34m(self, containerClass)\u001b[0m\n\u001b[0;32m    586\u001b[0m     \u001b[38;5;28;01mreturn\u001b[39;00m\n\u001b[0;32m    588\u001b[0m containerClass \u001b[38;5;241m=\u001b[39m \u001b[38;5;28mself\u001b[39m\u001b[38;5;241m.\u001b[39mstring_container(containerClass)\n\u001b[1;32m--> 589\u001b[0m o \u001b[38;5;241m=\u001b[39m \u001b[43mcontainerClass\u001b[49m\u001b[43m(\u001b[49m\u001b[43mcurrent_data\u001b[49m\u001b[43m)\u001b[49m\n\u001b[0;32m    590\u001b[0m \u001b[38;5;28mself\u001b[39m\u001b[38;5;241m.\u001b[39mobject_was_parsed(o)\n",
      "File \u001b[1;32m~\\anaconda3\\envs\\anal\\lib\\site-packages\\bs4\\element.py:946\u001b[0m, in \u001b[0;36mNavigableString.__new__\u001b[1;34m(cls, value)\u001b[0m\n\u001b[0;32m    944\u001b[0m \u001b[38;5;28;01melse\u001b[39;00m:\n\u001b[0;32m    945\u001b[0m     u \u001b[38;5;241m=\u001b[39m \u001b[38;5;28mstr\u001b[39m\u001b[38;5;241m.\u001b[39m\u001b[38;5;21m__new__\u001b[39m(\u001b[38;5;28mcls\u001b[39m, value, DEFAULT_OUTPUT_ENCODING)\n\u001b[1;32m--> 946\u001b[0m \u001b[43mu\u001b[49m\u001b[38;5;241;43m.\u001b[39;49m\u001b[43msetup\u001b[49m\u001b[43m(\u001b[49m\u001b[43m)\u001b[49m\n\u001b[0;32m    947\u001b[0m \u001b[38;5;28;01mreturn\u001b[39;00m u\n",
      "File \u001b[1;32m~\\anaconda3\\envs\\anal\\lib\\site-packages\\bs4\\element.py:187\u001b[0m, in \u001b[0;36mPageElement.setup\u001b[1;34m(self, parent, previous_element, next_element, previous_sibling, next_sibling)\u001b[0m\n\u001b[0;32m    184\u001b[0m     \u001b[38;5;28mself\u001b[39m\u001b[38;5;241m.\u001b[39mnext_element\u001b[38;5;241m.\u001b[39mprevious_element \u001b[38;5;241m=\u001b[39m \u001b[38;5;28mself\u001b[39m\n\u001b[0;32m    186\u001b[0m \u001b[38;5;28mself\u001b[39m\u001b[38;5;241m.\u001b[39mnext_sibling \u001b[38;5;241m=\u001b[39m next_sibling\n\u001b[1;32m--> 187\u001b[0m \u001b[38;5;28;01mif\u001b[39;00m \u001b[38;5;28;43mself\u001b[39;49m\u001b[38;5;241;43m.\u001b[39;49m\u001b[43mnext_sibling\u001b[49m \u001b[38;5;129;01mis\u001b[39;00m \u001b[38;5;129;01mnot\u001b[39;00m \u001b[38;5;28;01mNone\u001b[39;00m:\n\u001b[0;32m    188\u001b[0m     \u001b[38;5;28mself\u001b[39m\u001b[38;5;241m.\u001b[39mnext_sibling\u001b[38;5;241m.\u001b[39mprevious_sibling \u001b[38;5;241m=\u001b[39m \u001b[38;5;28mself\u001b[39m\n\u001b[0;32m    190\u001b[0m \u001b[38;5;28;01mif\u001b[39;00m (previous_sibling \u001b[38;5;129;01mis\u001b[39;00m \u001b[38;5;28;01mNone\u001b[39;00m\n\u001b[0;32m    191\u001b[0m     \u001b[38;5;129;01mand\u001b[39;00m \u001b[38;5;28mself\u001b[39m\u001b[38;5;241m.\u001b[39mparent \u001b[38;5;129;01mis\u001b[39;00m \u001b[38;5;129;01mnot\u001b[39;00m \u001b[38;5;28;01mNone\u001b[39;00m \u001b[38;5;129;01mand\u001b[39;00m \u001b[38;5;28mself\u001b[39m\u001b[38;5;241m.\u001b[39mparent\u001b[38;5;241m.\u001b[39mcontents):\n",
      "\u001b[1;31mKeyboardInterrupt\u001b[0m: "
     ]
    }
   ],
   "source": [
    "run_this()"
   ]
  },
  {
   "cell_type": "code",
   "execution_count": null,
   "metadata": {},
   "outputs": [],
   "source": []
  }
 ],
 "metadata": {
  "kernelspec": {
   "display_name": "Python 3",
   "language": "python",
   "name": "python3"
  },
  "language_info": {
   "codemirror_mode": {
    "name": "ipython",
    "version": 3
   },
   "file_extension": ".py",
   "mimetype": "text/x-python",
   "name": "python",
   "nbconvert_exporter": "python",
   "pygments_lexer": "ipython3",
   "version": "3.8.3"
  }
 },
 "nbformat": 4,
 "nbformat_minor": 4
}
